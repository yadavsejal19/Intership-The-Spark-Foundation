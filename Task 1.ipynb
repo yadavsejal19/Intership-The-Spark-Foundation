{
  "nbformat": 4,
  "nbformat_minor": 0,
  "metadata": {
    "colab": {
      "name": "Adult Salary Dataset.ipynb",
      "private_outputs": true,
      "provenance": [],
      "collapsed_sections": [],
      "mount_file_id": "1uONHmJa_Y-ZuP-nc0tBUQm8myhTcJLk0",
      "authorship_tag": "ABX9TyNeXaSjepDcvneqkdweWboL",
      "include_colab_link": true
    },
    "kernelspec": {
      "name": "python3",
      "display_name": "Python 3"
    },
    "language_info": {
      "name": "python"
    }
  },
  "cells": [
    {
      "cell_type": "markdown",
      "metadata": {
        "id": "view-in-github",
        "colab_type": "text"
      },
      "source": [
        "<a href=\"https://colab.research.google.com/github/yadavsejal19/Intership-The-Spark-Foundation/blob/main/Adult_Salary_Dataset.ipynb\" target=\"_parent\"><img src=\"https://colab.research.google.com/assets/colab-badge.svg\" alt=\"Open In Colab\"/></a>"
      ]
    },
    {
      "cell_type": "markdown",
      "source": [
        "# **Importing** **Libraries**"
      ],
      "metadata": {
        "id": "0chshH4IWJm7"
      }
    },
    {
      "cell_type": "code",
      "execution_count": null,
      "metadata": {
        "id": "Yx2MUTkLVcFT"
      },
      "outputs": [],
      "source": [
        "import pandas as pd\n",
        "import numpy as np\n",
        "import matplotlib.pyplot as plt\n",
        "import seaborn as sns\n",
        "plt.style.use('dark_background')"
      ]
    },
    {
      "cell_type": "markdown",
      "source": [
        "## **Creating** **Dataframe** "
      ],
      "metadata": {
        "id": "eeOhNWL_WIRQ"
      }
    },
    {
      "cell_type": "code",
      "source": [
        "df = pd.read_csv('adult.csv')\n",
        "df.head()"
      ],
      "metadata": {
        "id": "vMvrADivYZiD"
      },
      "execution_count": null,
      "outputs": []
    },
    {
      "cell_type": "code",
      "source": [
        "df.shape"
      ],
      "metadata": {
        "id": "GrrrvCodYxHh"
      },
      "execution_count": null,
      "outputs": []
    },
    {
      "cell_type": "code",
      "source": [
        "df.describe()"
      ],
      "metadata": {
        "id": "vNoCPfmPY1fc"
      },
      "execution_count": null,
      "outputs": []
    },
    {
      "cell_type": "code",
      "source": [
        "df.info()"
      ],
      "metadata": {
        "id": "wMw64z_nY46v"
      },
      "execution_count": null,
      "outputs": []
    },
    {
      "cell_type": "code",
      "source": [
        "df['income'].value_counts()"
      ],
      "metadata": {
        "id": "4u5kSTd2Y-OG"
      },
      "execution_count": null,
      "outputs": []
    },
    {
      "cell_type": "code",
      "source": [
        "df['sex'].value_counts()"
      ],
      "metadata": {
        "id": "OsXP0zcwZDOc"
      },
      "execution_count": null,
      "outputs": []
    },
    {
      "cell_type": "code",
      "source": [
        "df['native.country'].value_counts()"
      ],
      "metadata": {
        "id": "WykdBhbwZEfH"
      },
      "execution_count": null,
      "outputs": []
    },
    {
      "cell_type": "code",
      "source": [
        "df['workclass'].value_counts()"
      ],
      "metadata": {
        "id": "3a3rToawZHJd"
      },
      "execution_count": null,
      "outputs": []
    },
    {
      "cell_type": "code",
      "source": [
        "df['occupation'].value_counts()"
      ],
      "metadata": {
        "id": "FhrgCdzNZNw3"
      },
      "execution_count": null,
      "outputs": []
    },
    {
      "cell_type": "markdown",
      "source": [
        "# **Dropping Education- Education No. is enough, Final Weight- Highly Discrete Data so not** **useful** **bold text**"
      ],
      "metadata": {
        "id": "zZ7ju1HhZTjB"
      }
    },
    {
      "cell_type": "code",
      "source": [
        "df = df.drop(['education', 'fnlwgt'], axis = 1)\n",
        "df.head(1)"
      ],
      "metadata": {
        "id": "ugfZWJazZPax"
      },
      "execution_count": null,
      "outputs": []
    },
    {
      "cell_type": "markdown",
      "source": [
        "# **Replacing ? with NaN**"
      ],
      "metadata": {
        "id": "KvO3c_fUZfd0"
      }
    },
    {
      "cell_type": "code",
      "source": [
        "df.replace('?', np.NaN,inplace = True)\n",
        "df.head()"
      ],
      "metadata": {
        "id": "YmR4CIHeZh1T"
      },
      "execution_count": null,
      "outputs": []
    },
    {
      "cell_type": "markdown",
      "source": [
        "# **Replacing NaN with Forward Fill**"
      ],
      "metadata": {
        "id": "gDfxEooeZpvi"
      }
    },
    {
      "cell_type": "code",
      "source": [
        "df.fillna(method = 'ffill', inplace = True)"
      ],
      "metadata": {
        "id": "pEiaJ8hTZlfJ"
      },
      "execution_count": null,
      "outputs": []
    },
    {
      "cell_type": "markdown",
      "source": [
        "# **Label Encoding**"
      ],
      "metadata": {
        "id": "qGvC-V7LZy_2"
      }
    },
    {
      "cell_type": "code",
      "source": [
        "from sklearn.preprocessing import LabelEncoder\n",
        "\n",
        "le = LabelEncoder()\n",
        "df['workclass'] = le.fit_transform(df['workclass'])\n",
        "df['marital.status'] = le.fit_transform(df['marital.status'])\n",
        "df['occupation'] = le.fit_transform(df['occupation'])\n",
        "df['relationship'] = le.fit_transform(df['relationship'])\n",
        "df['race'] = le.fit_transform(df['race'])\n",
        "df['sex'] = le.fit_transform(df['sex'])\n",
        "df['native.country'] = le.fit_transform(df['native.country'])\n",
        "df['income'] = le.fit_transform(df['income'])\n",
        "\n",
        "df.head()"
      ],
      "metadata": {
        "id": "ua_8YPrZZ1tj"
      },
      "execution_count": null,
      "outputs": []
    },
    {
      "cell_type": "code",
      "source": [
        "sns.barplot(x = 'income', y = 'age', data = df)"
      ],
      "metadata": {
        "id": "pdw_NzM8Z5UF"
      },
      "execution_count": null,
      "outputs": []
    },
    {
      "cell_type": "code",
      "source": [
        "sns.pairplot(df, hue = 'income', palette = 'inferno')"
      ],
      "metadata": {
        "id": "q5yuXL2tZ_H3"
      },
      "execution_count": null,
      "outputs": []
    },
    {
      "cell_type": "code",
      "source": [
        "sns.heatmap(df.corr())"
      ],
      "metadata": {
        "id": "4KYEIkZabAcx"
      },
      "execution_count": null,
      "outputs": []
    },
    {
      "cell_type": "code",
      "source": [
        "x = df.drop(['income'], axis = 1)\n",
        "y = df['income']"
      ],
      "metadata": {
        "id": "1QnVa3xzbGJV"
      },
      "execution_count": null,
      "outputs": []
    },
    {
      "cell_type": "markdown",
      "source": [
        "# **Train Test Split**\n"
      ],
      "metadata": {
        "id": "lOQcoqaNbHDh"
      }
    },
    {
      "cell_type": "code",
      "source": [
        "from sklearn.model_selection import train_test_split\n",
        "x_train, x_test, y_train, y_test = train_test_split(x,y, test_size = 0.2)"
      ],
      "metadata": {
        "id": "pI4CJE2obL7S"
      },
      "execution_count": null,
      "outputs": []
    },
    {
      "cell_type": "code",
      "source": [
        "from sklearn.naive_bayes import GaussianNB\n",
        "gb = GaussianNB()\n",
        "gb.fit(x_train,y_train)"
      ],
      "metadata": {
        "id": "P9BnwF_tbPww"
      },
      "execution_count": null,
      "outputs": []
    },
    {
      "cell_type": "code",
      "source": [
        "from sklearn.metrics import classification_report\n",
        "from sklearn.metrics import confusion_matrix\n",
        "from sklearn.metrics import accuracy_score"
      ],
      "metadata": {
        "id": "TkeftJVEbP57"
      },
      "execution_count": null,
      "outputs": []
    },
    {
      "cell_type": "markdown",
      "source": [
        "# **Printing Metrics**"
      ],
      "metadata": {
        "id": "TItmAGBdbhJ6"
      }
    },
    {
      "cell_type": "code",
      "source": [
        "y_pred = gb.predict(x_test)\n",
        "print(classification_report(y_test,y_pred))\n",
        "print(confusion_matrix(y_test,y_pred))\n",
        "print(accuracy_score(y_test,y_pred)*100)"
      ],
      "metadata": {
        "id": "Bd53eYStbgB0"
      },
      "execution_count": null,
      "outputs": []
    }
  ]
}
